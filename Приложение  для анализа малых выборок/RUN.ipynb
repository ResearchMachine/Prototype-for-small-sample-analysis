{
 "cells": [
  {
   "cell_type": "markdown",
   "metadata": {},
   "source": [
    "## Приложение для анализа малых выборок\n",
    "\n",
    "Разработан прототип, позволяющий повторно провести анализ **малых данных** по схеме, приведенной в аналитическом отчете для проекта [Разработка прототипа приложения для анализа промысловых данных](https://professionals4-0.ru/project/gpn-108/). \n",
    "\n",
    "\n",
    "\n",
    "\n",
    "\n",
    "Ниже приведены проблемы анализа малых выборок и рекомендации по их решениям, алгоритм построения регрессионной модели."
   ]
  },
  {
   "cell_type": "markdown",
   "metadata": {},
   "source": [
    "![](Recom.png)"
   ]
  },
  {
   "cell_type": "markdown",
   "metadata": {},
   "source": [
    "В соответствии с рекомендациями выбран следующий стек технологий анализа:  \n",
    "•\tиерархический кластерный анализ (для выделения групп с относительно высокими/низкими целевыми показателями);  \n",
    "•\tлинейный дискриминантный анализ (для построения моделей для качественного прогнозирования);  \n",
    "•\tлинейный регрессионный анализ (для построения моделей для количественного прогнозирования);  \n",
    "•\tпрогнозирование на основе регрессионной модели методом сэмплирование Монте-Карло."
   ]
  },
  {
   "cell_type": "markdown",
   "metadata": {},
   "source": [
    "![ ](AlgoRegress.png)"
   ]
  },
  {
   "cell_type": "markdown",
   "metadata": {},
   "source": [
    "\n",
    "Прототип предоставляет возможность конфигурации важных параметров моделирования. В качестве настроек по умолчанию установлены параметры, использованные в ходе анализа. На рисунках ниже представлен интерфейс прототипа до и после загрузки файла (осуществляется подгрузка вкладок моделирования и визуализации). \n",
    "Прототип соответствует следующим требованиям:  \n",
    "•\tпрототип использует только библиотеки с открытым исходным кодом;  \n",
    "•\tинтерфейс разработан с использованием интерактивных HTML-виджетов Jupyter Notebook;  \n",
    "•\tисходный код оформлен в соответствии с руководством PEP 8;  \n",
    "•\tпрототип передан в формате исполняемого файла Jupyter Notebook .ipynb."
   ]
  },
  {
   "cell_type": "markdown",
   "metadata": {},
   "source": [
    "![](GUI1.png)"
   ]
  },
  {
   "cell_type": "markdown",
   "metadata": {},
   "source": [
    "![](GUI2.png)"
   ]
  },
  {
   "cell_type": "markdown",
   "metadata": {},
   "source": [
    "Пограмма разбита на модули  \n",
    "1. Модуль \"загрузка данных\" (MyDataUpload.py);  \n",
    "2. Модуль \"моделирование\" (MyModeling.py);  \n",
    "3. Модуль \"визуализация\" (MyVisual.py);  \n",
    "4. Модуль \"справка\" (MyHelp.py);  \n",
    "5. Модуль запуска приложения (в котором вы находитесь)."
   ]
  },
  {
   "cell_type": "markdown",
   "metadata": {},
   "source": [
    "# Запуск приложения"
   ]
  },
  {
   "cell_type": "code",
   "execution_count": 1,
   "metadata": {
    "scrolled": false
   },
   "outputs": [
    {
     "data": {
      "application/vnd.jupyter.widget-view+json": {
       "model_id": "5c78c1a584434325b133f0d0dc2ba20a",
       "version_major": 2,
       "version_minor": 0
      },
      "text/plain": [
       "VBox(children=(Tab(children=(VBox(children=(FileUpload(value={}, accept='.xlsx, .csv', button_style='success',…"
      ]
     },
     "metadata": {},
     "output_type": "display_data"
    }
   ],
   "source": [
    "#for kernel reboot\n",
    "from IPython.core.display import HTML\n",
    "HTML(\"<script>Jupyter.notebook.kernel.restart()</script>\")\n",
    "\n",
    "\n",
    "#my libraries\n",
    "import MyDataUpload\n",
    "import MyModeling\n",
    "import MyVisual\n",
    "import MyHelp\n",
    "\n",
    "#standard libraries\n",
    "import time\n",
    "import threading\n",
    "import functools\n",
    "import importlib\n",
    "import warnings\n",
    "\n",
    "warnings.simplefilter(\"ignore\")\n",
    "\n",
    "importlib.reload(MyDataUpload)\n",
    "importlib.reload(MyModeling)\n",
    "importlib.reload(MyVisual)\n",
    "importlib.reload(MyHelp)\n",
    "\n",
    "#data analysis libraries\n",
    "import math\n",
    "import numpy as np\n",
    "import pandas as pd\n",
    "import statsmodels.api as sm\n",
    "from sklearn.linear_model import LinearRegression, Lasso, Ridge\n",
    "from sklearn.model_selection import train_test_split\n",
    "\n",
    "#visualisation libraries\n",
    "import matplotlib.pyplot as plt\n",
    "from ipywidgets import Layout\n",
    "import ipywidgets as widgets\n",
    "\n",
    "\n",
    "#----------------------------------------------------------------------------------------\n",
    "#Report box--------------------------------------------------------------------------------\n",
    "#----------------------------------------------------------------------------------------\n",
    "clear_report = widgets.Button(\n",
    "    description='Очистить'\n",
    ")\n",
    "\n",
    "def ClearReport(b):\n",
    "    out_report.clear_output()\n",
    "\n",
    "\n",
    "clear_report.on_click(ClearReport)   \n",
    "\n",
    "\n",
    "out_report = widgets.Output(layout={'border': '1px solid black'})\n",
    "\n",
    "with out_report:\n",
    "    print('Начало работы с программой, выберите файл с данными \\n')\n",
    "\n",
    "   \n",
    "#----------------------------------------------------------------------------------------\n",
    "#Main data tab--------------------------------------------------------------------------------\n",
    "#----Box_UploadTab------------------------------------------------------------------------------------\n",
    "DataUpload = MyDataUpload.main(out_report)\n",
    "tab = widgets.Tab(\n",
    "    children = [DataUpload[0],  \n",
    "                MyHelp.main()]\n",
    ")\n",
    "\n",
    "tab.set_title(0, 'Данные')\n",
    "tab.set_title(1, 'Справка')\n",
    "\n",
    "report_box = widgets.VBox(\n",
    "    children=( out_report, clear_report\n",
    "             )\n",
    ")\n",
    "\n",
    "main_box = widgets.VBox(\n",
    "    children=(tab, widgets.Label('Строка состояния:'), report_box\n",
    "             )\n",
    ")\n",
    "\n",
    "def work():\n",
    "    global flag, df\n",
    "    while flag:\n",
    "        time.sleep(0.5) \n",
    "        if MyDataUpload.IfButtonUploadClicked():\n",
    "            #MyModeling.main(out_report, DataUpload[1])\n",
    "            df = MyDataUpload.main(out_report)[1]\n",
    "            tab.children = [DataUpload[0], \n",
    "                            MyModeling.main(out_report, df), \n",
    "                            MyVisual.main(out_report, df), \n",
    "                            MyHelp.main()]\n",
    "            tab.set_title(0, 'Данные')\n",
    "            tab.set_title(1, 'Моделирование')\n",
    "            tab.set_title(2, 'Визуализация')\n",
    "            tab.set_title(3, 'Справка')\n",
    "            \n",
    "            flag = False\n",
    "             \n",
    "\n",
    "flag = True\n",
    "thread = threading.Thread(target=work)\n",
    "display(main_box)\n",
    "thread.start()\n",
    "\n"
   ]
  },
  {
   "cell_type": "code",
   "execution_count": null,
   "metadata": {},
   "outputs": [],
   "source": []
  }
 ],
 "metadata": {
  "kernelspec": {
   "display_name": "Python 3",
   "language": "python",
   "name": "python3"
  },
  "language_info": {
   "codemirror_mode": {
    "name": "ipython",
    "version": 3
   },
   "file_extension": ".py",
   "mimetype": "text/x-python",
   "name": "python",
   "nbconvert_exporter": "python",
   "pygments_lexer": "ipython3",
   "version": "3.7.6"
  }
 },
 "nbformat": 4,
 "nbformat_minor": 4
}
